{
 "cells": [
  {
   "cell_type": "code",
   "execution_count": 5,
   "metadata": {},
   "outputs": [
    {
     "name": "stderr",
     "output_type": "stream",
     "text": [
      "d:\\ProgramData\\mambaforge\\envs\\toolenv\\lib\\site-packages\\torchvision\\models\\_utils.py:208: UserWarning: The parameter 'pretrained' is deprecated since 0.13 and may be removed in the future, please use 'weights' instead.\n",
      "  warnings.warn(\n",
      "d:\\ProgramData\\mambaforge\\envs\\toolenv\\lib\\site-packages\\torchvision\\models\\_utils.py:223: UserWarning: Arguments other than a weight enum or `None` for 'weights' are deprecated since 0.13 and may be removed in the future. The current behavior is equivalent to passing `weights=ResNet50_Weights.IMAGENET1K_V1`. You can also use `weights=ResNet50_Weights.DEFAULT` to get the most up-to-date weights.\n",
      "  warnings.warn(msg)\n",
      " 24%|██▍       | 19/79 [01:00<03:17,  3.29s/it]d:\\ProgramData\\mambaforge\\envs\\toolenv\\lib\\site-packages\\PIL\\Image.py:3368: DecompressionBombWarning: Image size (121848000 pixels) exceeds limit of 89478485 pixels, could be decompression bomb DOS attack.\n",
      "  warnings.warn(\n",
      "100%|██████████| 79/79 [04:14<00:00,  3.22s/it]\n"
     ]
    }
   ],
   "source": [
    "import os\n",
    "import shutil\n",
    "import torch\n",
    "import torchvision.transforms as transforms\n",
    "from torchvision.datasets import ImageFolder\n",
    "from torchvision import models\n",
    "from sklearn.cluster import KMeans\n",
    "from torch.utils.data import DataLoader\n",
    "import numpy as np\n",
    "from tqdm import tqdm\n",
    "from PIL import ImageFile\n",
    "\n",
    "\n",
    "ImageFile.LOAD_TRUNCATED_IMAGES = True\n",
    "\n",
    "# 设置图片预处理步骤\n",
    "transform = transforms.Compose([\n",
    "    transforms.Resize(256),\n",
    "    transforms.CenterCrop(224),\n",
    "    transforms.ToTensor(),\n",
    "    transforms.Normalize(mean=[0.485, 0.456, 0.406], std=[0.229, 0.224, 0.225]),\n",
    "])\n",
    "\n",
    "def jpg_mean(path, n_clusters=10):\n",
    "    # 加载图片\n",
    "    dataset = ImageFolder(path, transform=transform)\n",
    "    dataloader = DataLoader(dataset, batch_size=64, shuffle=False)\n",
    "\n",
    "    # 使用预训练的 ResNet50 模型\n",
    "    model = models.resnet50(pretrained=True)\n",
    "    # model = model.to('cuda')\n",
    "    model.eval()\n",
    "\n",
    "    # 提取图片特征\n",
    "    features = []\n",
    "    for inputs, _ in tqdm(dataloader):\n",
    "        # inputs = inputs.to('cuda')\n",
    "        with torch.no_grad():\n",
    "            outputs = model(inputs)\n",
    "        features.append(outputs.cpu().numpy())\n",
    "\n",
    "    features = np.concatenate(features)\n",
    "\n",
    "    # 使用 K-means 进行聚类\n",
    "    kmeans = KMeans(n_clusters=n_clusters, random_state=0).fit(features)\n",
    "\n",
    "    # 打印聚类结果\n",
    "    # print(kmeans.labels_)\n",
    "\n",
    "    # 提取图片路径\n",
    "    image_paths = [item[0] for item in dataset.samples]\n",
    "\n",
    "    # 创建新的文件夹\n",
    "    for label in set(kmeans.labels_):\n",
    "        os.makedirs(f'{path}\\\\cluster_{label}', exist_ok=True)\n",
    "    #     print(f'{path}\\\\cluster_{label}')\n",
    "\n",
    "    # 将图片移到新的文件夹\n",
    "    for image_path, label in zip(image_paths, kmeans.labels_):\n",
    "        shutil.move(image_path,f'{path}\\\\cluster_{label}/{os.path.basename(image_path)}')\n",
    "\n",
    "\n",
    "jpg_mean(r'Y:\\Photo\\iphone_photo(1-14)_re', 20)\n",
    "# path_list = [r'Z:\\Photo\\Saved Pictures_re\\长图', ]\n",
    "# for path in path_list:\n",
    "#     jpg_mean(path)"
   ]
  },
  {
   "cell_type": "code",
   "execution_count": 1,
   "metadata": {},
   "outputs": [
    {
     "name": "stderr",
     "output_type": "stream",
     "text": [
      "100%|██████████| 4/4 [00:00<00:00,  8.44it/s]\n"
     ]
    },
    {
     "data": {
      "text/plain": [
       "[]"
      ]
     },
     "execution_count": 1,
     "metadata": {},
     "output_type": "execute_result"
    }
   ],
   "source": [
    "import sys\n",
    "import os\n",
    "\n",
    "# 确定项目根目录（假设当前工作目录是项目的根目录）\n",
    "project_root = os.path.abspath(\"..\")\n",
    "sys.path.insert(0, project_root)\n",
    "\n",
    "from tools.FileOperations import compress_folder\n",
    "\n",
    "compress_folder(r'Q:\\Project\\Celestial-Chess\\ai\\train_data')"
   ]
  },
  {
   "cell_type": "code",
   "execution_count": 3,
   "metadata": {},
   "outputs": [
    {
     "name": "stdout",
     "output_type": "stream",
     "text": [
      "📄 .gitignore       \t(188 bytes)\n",
      "📁 constants/\n",
      "    🐍 constant.py       \t(39636 bytes)\n",
      "    🐍 regex_patterns.py \t(2207 bytes)\n",
      "    🐍 suffers.py        \t(1166 bytes)\n",
      "    🐍 __init__.py       \t(131 bytes)\n",
      "📁 docs/\n",
      "    📝 usage.md \t(0 bytes)\n",
      "📁 instances/\n",
      "    🐍 inst_fetch.py      \t(3094 bytes)\n",
      "    🐍 inst_findiff.py    \t(6068 bytes)\n",
      "    🐍 inst_imgEncoder.py \t(7834 bytes)\n",
      "    🐍 inst_network.py    \t(9307 bytes)\n",
      "    🐍 inst_queue.py      \t(2911 bytes)\n",
      "    🐍 inst_save.py       \t(4352 bytes)\n",
      "    🐍 inst_sub.py        \t(3232 bytes)\n",
      "    🐍 my_thread.py       \t(16262 bytes)\n",
      "    🐍 __init__.py        \t(425 bytes)\n",
      "📁 logs/\n",
      "    📄 thread_manager(2024-05-16).log \t(26165 bytes)\n",
      "    📄 thread_manager(2024-06-07).log \t(0 bytes)\n",
      "    📄 thread_manager(2024-06-13).log \t(63 bytes)\n",
      "    📄 thread_manager(2024-06-14).log \t(3001 bytes)\n",
      "📄 pytest.ini       \t(209 bytes)\n",
      "📝 README.md        \t(3456 bytes)\n",
      "🗒️ requirements.txt \t(222 bytes)\n",
      "🐍 setup.py         \t(333 bytes)\n",
      "📁 tests/\n",
      "    🐍 conftest.py            \t(768 bytes)\n",
      "    🐍 test_FileOperations.py \t(662 bytes)\n",
      "    🐍 test_imgEncoder.py     \t(942 bytes)\n",
      "    🐍 test_instances.py      \t(1716 bytes)\n",
      "    🐍 test_ListDictTools.py  \t(1597 bytes)\n",
      "    🐍 test_logger.py         \t(1062 bytes)\n",
      "    🐍 test_TextTools.py      \t(1845 bytes)\n",
      "    🐍 test_thread.py         \t(1203 bytes)\n",
      "    🐍 test_tools.py          \t(608 bytes)\n",
      "    🐍 value_dispatch.py      \t(2947 bytes)\n",
      "    📄 _preview.ipynb         \t(31139 bytes)\n",
      "📁 tools/\n",
      "    🐍 DocumentConversion.py \t(2539 bytes)\n",
      "    🐍 FileOperations.py     \t(15679 bytes)\n",
      "    🐍 ImageProcessing.py    \t(2039 bytes)\n",
      "    🐍 ListDictTools.py      \t(5600 bytes)\n",
      "    🐍 TextTools.py          \t(5079 bytes)\n",
      "    🐍 Utilities.py          \t(841 bytes)\n",
      "    🐍 VideoProcessing.py    \t(2453 bytes)\n",
      "    🐍 __init__.py           \t(251 bytes)\n",
      "🐍 __init__.py      \t(79 bytes)\n"
     ]
    }
   ],
   "source": [
    "\n",
    "import sys\n",
    "import os\n",
    "\n",
    "# 确定项目根目录（假设当前工作目录是项目的根目录）\n",
    "project_root = os.path.abspath(\"..\")\n",
    "sys.path.insert(0, project_root)\n",
    "\n",
    "from tools.FileOperations import detect_identical_files, duplicate_files_report, move_identical_files, print_directory_structure\n",
    "# Example usage:\n",
    "directory_path = r'Q:\\Project\\CelestialVault'\n",
    "# identical_files = detect_identical_files(directory_path)\n",
    "# print(duplicate_files_report(identical_files))\n",
    "print_directory_structure(directory_path, exclude_dirs=['.git', '__pycache__', '.pytest_cache'])\n"
   ]
  },
  {
   "cell_type": "code",
   "execution_count": 4,
   "metadata": {},
   "outputs": [
    {
     "name": "stdout",
     "output_type": "stream",
     "text": [
      "Moved: Q:\\Project\\test\\0.jpg -> Q:\\Project\\test\\duplicate\\cde27280cedbe9c35933844f68a175f1713404397b0d3b170445eaeca60eb037\\0.jpg\n",
      "Error moving Q:\\Project\\test\\test_jpg\\0.jpg to Q:\\Project\\test\\duplicate\\cde27280cedbe9c35933844f68a175f1713404397b0d3b170445eaeca60eb037\\0.jpg: [WinError 183] Cannot create a file when that file already exists: 'Q:\\\\Project\\\\test\\\\test_jpg\\\\0.jpg' -> 'Q:\\\\Project\\\\test\\\\duplicate\\\\cde27280cedbe9c35933844f68a175f1713404397b0d3b170445eaeca60eb037\\\\0.jpg'\n",
      "Moved: Q:\\Project\\test\\text_img(rgba) - Copy.png -> Q:\\Project\\test\\duplicate\\547420e15b18362bf10ad95922351bf9e23ceb00da9818edc8466f6d040782e9\\text_img(rgba) - Copy.png\n",
      "Moved: Q:\\Project\\test\\text_img(rgba).png -> Q:\\Project\\test\\duplicate\\547420e15b18362bf10ad95922351bf9e23ceb00da9818edc8466f6d040782e9\\text_img(rgba).png\n",
      "Moved: Q:\\Project\\test\\text_img(rgba).txt -> Q:\\Project\\test\\duplicate\\7f83b1657ff1fc53b92dc18148a1d65dfc2d4b1fa3d677284addd200126d9069\\text_img(rgba).txt\n",
      "Moved: Q:\\Project\\test\\text_img.txt -> Q:\\Project\\test\\duplicate\\7f83b1657ff1fc53b92dc18148a1d65dfc2d4b1fa3d677284addd200126d9069\\text_img.txt\n"
     ]
    },
    {
     "data": {
      "text/plain": [
       "[(WindowsPath('Q:/Project/test/0.jpg'),\n",
       "  WindowsPath('Q:/Project/test/duplicate/cde27280cedbe9c35933844f68a175f1713404397b0d3b170445eaeca60eb037/0.jpg')),\n",
       " (WindowsPath('Q:/Project/test/text_img(rgba) - Copy.png'),\n",
       "  WindowsPath('Q:/Project/test/duplicate/547420e15b18362bf10ad95922351bf9e23ceb00da9818edc8466f6d040782e9/text_img(rgba) - Copy.png')),\n",
       " (WindowsPath('Q:/Project/test/text_img(rgba).png'),\n",
       "  WindowsPath('Q:/Project/test/duplicate/547420e15b18362bf10ad95922351bf9e23ceb00da9818edc8466f6d040782e9/text_img(rgba).png')),\n",
       " (WindowsPath('Q:/Project/test/text_img(rgba).txt'),\n",
       "  WindowsPath('Q:/Project/test/duplicate/7f83b1657ff1fc53b92dc18148a1d65dfc2d4b1fa3d677284addd200126d9069/text_img(rgba).txt')),\n",
       " (WindowsPath('Q:/Project/test/text_img.txt'),\n",
       "  WindowsPath('Q:/Project/test/duplicate/7f83b1657ff1fc53b92dc18148a1d65dfc2d4b1fa3d677284addd200126d9069/text_img.txt'))]"
      ]
     },
     "execution_count": 4,
     "metadata": {},
     "output_type": "execute_result"
    }
   ],
   "source": [
    "move_identical_files(identical_files, directory_path + '\\\\duplicate')"
   ]
  },
  {
   "cell_type": "code",
   "execution_count": 5,
   "metadata": {},
   "outputs": [
    {
     "data": {
      "text/plain": [
       "{('735c2257fa1cfef50f3840fa91fd9602237a1a147fb70848587e68f849f4ad39',\n",
       "  16681): [WindowsPath('Y:/Photo/文件夹/人物_re/轻兰映画/SPL/轻兰映画 SPL.001/网盘资源分享页.html'), WindowsPath('Y:/Photo/文件夹/人物_re/轻兰映画/SPL/轻兰映画 SPL.002/网盘资源分享页.html'), WindowsPath('Y:/Photo/文件夹/人物_re/轻兰映画/SPL/轻兰映画 SPL.003/网盘资源分享页.html'), WindowsPath('Y:/Photo/文件夹/人物_re/轻兰映画/SPL/轻兰映画 SPL.004/网盘资源分享页.html'), WindowsPath('Y:/Photo/文件夹/人物_re/轻兰映画/SPL/轻兰映画 SPL.005/网盘资源分享页.html'), WindowsPath('Y:/Photo/文件夹/人物_re/轻兰映画/SPL/轻兰映画 SPL.006/网盘资源分享页.html'), WindowsPath('Y:/Photo/文件夹/人物_re/轻兰映画/SPL/轻兰映画 SPL.007/网盘资源分享页.html'), WindowsPath('Y:/Photo/文件夹/人物_re/轻兰映画/SPL/轻兰映画 SPL.008/网盘资源分享页.html'), WindowsPath('Y:/Photo/文件夹/人物_re/轻兰映画/SPL/轻兰映画 SPL.009/网盘资源分享页.html'), WindowsPath('Y:/Photo/文件夹/人物_re/轻兰映画/SPL/轻兰映画 SPL.010/网盘资源分享页.html'), WindowsPath('Y:/Photo/文件夹/人物_re/轻兰映画/SPL/轻兰映画 SPL.011/网盘资源分享页.html'), WindowsPath('Y:/Photo/文件夹/人物_re/轻兰映画/SPL/轻兰映画 SPL.012/网盘资源分享页.html'), WindowsPath('Y:/Photo/文件夹/人物_re/轻兰映画/VOL/轻兰映画 VOL.001/网盘资源分享页.html'), WindowsPath('Y:/Photo/文件夹/人物_re/轻兰映画/VOL/轻兰映画 VOL.002/网盘资源分享页.html'), WindowsPath('Y:/Photo/文件夹/人物_re/轻兰映画/VOL/轻兰映画 VOL.003/网盘资源分享页.html'), WindowsPath('Y:/Photo/文件夹/人物_re/轻兰映画/VOL/轻兰映画 VOL.004/网盘资源分享页.html'), WindowsPath('Y:/Photo/文件夹/人物_re/轻兰映画/VOL/轻兰映画 VOL.005/网盘资源分享页.html'), WindowsPath('Y:/Photo/文件夹/人物_re/轻兰映画/VOL/轻兰映画 VOL.006/网盘资源分享页.html'), WindowsPath('Y:/Photo/文件夹/人物_re/轻兰映画/VOL/轻兰映画 VOL.007/网盘资源分享页.html'), WindowsPath('Y:/Photo/文件夹/人物_re/轻兰映画/VOL/轻兰映画 VOL.008/网盘资源分享页.html'), WindowsPath('Y:/Photo/文件夹/人物_re/轻兰映画/VOL/轻兰映画 VOL.009/网盘资源分享页.html'), WindowsPath('Y:/Photo/文件夹/人物_re/轻兰映画/VOL/轻兰映画 VOL.010/网盘资源分享页.html'), WindowsPath('Y:/Photo/文件夹/人物_re/轻兰映画/VOL/轻兰映画 VOL.011/网盘资源分享页.html'), WindowsPath('Y:/Photo/文件夹/人物_re/轻兰映画/VOL/轻兰映画 VOL.012/网盘资源分享页.html'), WindowsPath('Y:/Photo/文件夹/人物_re/轻兰映画/VOL/轻兰映画 VOL.013/网盘资源分享页.html'), WindowsPath('Y:/Photo/文件夹/人物_re/轻兰映画/VOL/轻兰映画 VOL.014/网盘资源分享页.html'), WindowsPath('Y:/Photo/文件夹/人物_re/轻兰映画/VOL/轻兰映画 VOL.015/网盘资源分享页.html'), WindowsPath('Y:/Photo/文件夹/人物_re/轻兰映画/VOL/轻兰映画 VOL.016/网盘资源分享页.html'), WindowsPath('Y:/Photo/文件夹/人物_re/轻兰映画/VOL/轻兰映画 VOL.017/网盘资源分享页.html'), WindowsPath('Y:/Photo/文件夹/人物_re/轻兰映画/VOL/轻兰映画 VOL.018/网盘资源分享页.html'), WindowsPath('Y:/Photo/文件夹/人物_re/轻兰映画/VOL/轻兰映画 VOL.019/网盘资源分享页.html')]}"
      ]
     },
     "execution_count": 5,
     "metadata": {},
     "output_type": "execute_result"
    }
   ],
   "source": [
    "keys_to_select = [(\"735c2257fa1cfef50f3840fa91fd9602237a1a147fb70848587e68f849f4ad39\", 16681 )]\n",
    "\n",
    "new_dict = {key: identical_files[key] for key in keys_to_select if key in identical_files}\n",
    "new_dict"
   ]
  },
  {
   "cell_type": "code",
   "execution_count": 6,
   "metadata": {},
   "outputs": [
    {
     "name": "stdout",
     "output_type": "stream",
     "text": [
      "Deleted: Y:\\Photo\\文件夹\\人物_re\\轻兰映画\\SPL\\轻兰映画 SPL.001\\网盘资源分享页.html\n",
      "Deleted: Y:\\Photo\\文件夹\\人物_re\\轻兰映画\\SPL\\轻兰映画 SPL.002\\网盘资源分享页.html\n",
      "Deleted: Y:\\Photo\\文件夹\\人物_re\\轻兰映画\\SPL\\轻兰映画 SPL.003\\网盘资源分享页.html\n",
      "Deleted: Y:\\Photo\\文件夹\\人物_re\\轻兰映画\\SPL\\轻兰映画 SPL.004\\网盘资源分享页.html\n",
      "Deleted: Y:\\Photo\\文件夹\\人物_re\\轻兰映画\\SPL\\轻兰映画 SPL.005\\网盘资源分享页.html\n",
      "Deleted: Y:\\Photo\\文件夹\\人物_re\\轻兰映画\\SPL\\轻兰映画 SPL.006\\网盘资源分享页.html\n",
      "Deleted: Y:\\Photo\\文件夹\\人物_re\\轻兰映画\\SPL\\轻兰映画 SPL.007\\网盘资源分享页.html\n",
      "Deleted: Y:\\Photo\\文件夹\\人物_re\\轻兰映画\\SPL\\轻兰映画 SPL.008\\网盘资源分享页.html\n",
      "Deleted: Y:\\Photo\\文件夹\\人物_re\\轻兰映画\\SPL\\轻兰映画 SPL.009\\网盘资源分享页.html\n",
      "Deleted: Y:\\Photo\\文件夹\\人物_re\\轻兰映画\\SPL\\轻兰映画 SPL.010\\网盘资源分享页.html\n",
      "Deleted: Y:\\Photo\\文件夹\\人物_re\\轻兰映画\\SPL\\轻兰映画 SPL.011\\网盘资源分享页.html\n",
      "Deleted: Y:\\Photo\\文件夹\\人物_re\\轻兰映画\\SPL\\轻兰映画 SPL.012\\网盘资源分享页.html\n",
      "Deleted: Y:\\Photo\\文件夹\\人物_re\\轻兰映画\\VOL\\轻兰映画 VOL.001\\网盘资源分享页.html\n",
      "Deleted: Y:\\Photo\\文件夹\\人物_re\\轻兰映画\\VOL\\轻兰映画 VOL.002\\网盘资源分享页.html\n",
      "Deleted: Y:\\Photo\\文件夹\\人物_re\\轻兰映画\\VOL\\轻兰映画 VOL.003\\网盘资源分享页.html\n",
      "Deleted: Y:\\Photo\\文件夹\\人物_re\\轻兰映画\\VOL\\轻兰映画 VOL.004\\网盘资源分享页.html\n",
      "Deleted: Y:\\Photo\\文件夹\\人物_re\\轻兰映画\\VOL\\轻兰映画 VOL.005\\网盘资源分享页.html\n",
      "Deleted: Y:\\Photo\\文件夹\\人物_re\\轻兰映画\\VOL\\轻兰映画 VOL.006\\网盘资源分享页.html\n",
      "Deleted: Y:\\Photo\\文件夹\\人物_re\\轻兰映画\\VOL\\轻兰映画 VOL.007\\网盘资源分享页.html\n",
      "Deleted: Y:\\Photo\\文件夹\\人物_re\\轻兰映画\\VOL\\轻兰映画 VOL.008\\网盘资源分享页.html\n",
      "Deleted: Y:\\Photo\\文件夹\\人物_re\\轻兰映画\\VOL\\轻兰映画 VOL.009\\网盘资源分享页.html\n",
      "Deleted: Y:\\Photo\\文件夹\\人物_re\\轻兰映画\\VOL\\轻兰映画 VOL.010\\网盘资源分享页.html\n",
      "Deleted: Y:\\Photo\\文件夹\\人物_re\\轻兰映画\\VOL\\轻兰映画 VOL.011\\网盘资源分享页.html\n",
      "Deleted: Y:\\Photo\\文件夹\\人物_re\\轻兰映画\\VOL\\轻兰映画 VOL.012\\网盘资源分享页.html\n",
      "Deleted: Y:\\Photo\\文件夹\\人物_re\\轻兰映画\\VOL\\轻兰映画 VOL.013\\网盘资源分享页.html\n",
      "Deleted: Y:\\Photo\\文件夹\\人物_re\\轻兰映画\\VOL\\轻兰映画 VOL.014\\网盘资源分享页.html\n",
      "Deleted: Y:\\Photo\\文件夹\\人物_re\\轻兰映画\\VOL\\轻兰映画 VOL.015\\网盘资源分享页.html\n",
      "Deleted: Y:\\Photo\\文件夹\\人物_re\\轻兰映画\\VOL\\轻兰映画 VOL.016\\网盘资源分享页.html\n",
      "Deleted: Y:\\Photo\\文件夹\\人物_re\\轻兰映画\\VOL\\轻兰映画 VOL.017\\网盘资源分享页.html\n",
      "Deleted: Y:\\Photo\\文件夹\\人物_re\\轻兰映画\\VOL\\轻兰映画 VOL.018\\网盘资源分享页.html\n",
      "Deleted: Y:\\Photo\\文件夹\\人物_re\\轻兰映画\\VOL\\轻兰映画 VOL.019\\网盘资源分享页.html\n"
     ]
    },
    {
     "data": {
      "text/plain": [
       "[WindowsPath('Y:/Photo/文件夹/人物_re/轻兰映画/SPL/轻兰映画 SPL.001/网盘资源分享页.html'),\n",
       " WindowsPath('Y:/Photo/文件夹/人物_re/轻兰映画/SPL/轻兰映画 SPL.002/网盘资源分享页.html'),\n",
       " WindowsPath('Y:/Photo/文件夹/人物_re/轻兰映画/SPL/轻兰映画 SPL.003/网盘资源分享页.html'),\n",
       " WindowsPath('Y:/Photo/文件夹/人物_re/轻兰映画/SPL/轻兰映画 SPL.004/网盘资源分享页.html'),\n",
       " WindowsPath('Y:/Photo/文件夹/人物_re/轻兰映画/SPL/轻兰映画 SPL.005/网盘资源分享页.html'),\n",
       " WindowsPath('Y:/Photo/文件夹/人物_re/轻兰映画/SPL/轻兰映画 SPL.006/网盘资源分享页.html'),\n",
       " WindowsPath('Y:/Photo/文件夹/人物_re/轻兰映画/SPL/轻兰映画 SPL.007/网盘资源分享页.html'),\n",
       " WindowsPath('Y:/Photo/文件夹/人物_re/轻兰映画/SPL/轻兰映画 SPL.008/网盘资源分享页.html'),\n",
       " WindowsPath('Y:/Photo/文件夹/人物_re/轻兰映画/SPL/轻兰映画 SPL.009/网盘资源分享页.html'),\n",
       " WindowsPath('Y:/Photo/文件夹/人物_re/轻兰映画/SPL/轻兰映画 SPL.010/网盘资源分享页.html'),\n",
       " WindowsPath('Y:/Photo/文件夹/人物_re/轻兰映画/SPL/轻兰映画 SPL.011/网盘资源分享页.html'),\n",
       " WindowsPath('Y:/Photo/文件夹/人物_re/轻兰映画/SPL/轻兰映画 SPL.012/网盘资源分享页.html'),\n",
       " WindowsPath('Y:/Photo/文件夹/人物_re/轻兰映画/VOL/轻兰映画 VOL.001/网盘资源分享页.html'),\n",
       " WindowsPath('Y:/Photo/文件夹/人物_re/轻兰映画/VOL/轻兰映画 VOL.002/网盘资源分享页.html'),\n",
       " WindowsPath('Y:/Photo/文件夹/人物_re/轻兰映画/VOL/轻兰映画 VOL.003/网盘资源分享页.html'),\n",
       " WindowsPath('Y:/Photo/文件夹/人物_re/轻兰映画/VOL/轻兰映画 VOL.004/网盘资源分享页.html'),\n",
       " WindowsPath('Y:/Photo/文件夹/人物_re/轻兰映画/VOL/轻兰映画 VOL.005/网盘资源分享页.html'),\n",
       " WindowsPath('Y:/Photo/文件夹/人物_re/轻兰映画/VOL/轻兰映画 VOL.006/网盘资源分享页.html'),\n",
       " WindowsPath('Y:/Photo/文件夹/人物_re/轻兰映画/VOL/轻兰映画 VOL.007/网盘资源分享页.html'),\n",
       " WindowsPath('Y:/Photo/文件夹/人物_re/轻兰映画/VOL/轻兰映画 VOL.008/网盘资源分享页.html'),\n",
       " WindowsPath('Y:/Photo/文件夹/人物_re/轻兰映画/VOL/轻兰映画 VOL.009/网盘资源分享页.html'),\n",
       " WindowsPath('Y:/Photo/文件夹/人物_re/轻兰映画/VOL/轻兰映画 VOL.010/网盘资源分享页.html'),\n",
       " WindowsPath('Y:/Photo/文件夹/人物_re/轻兰映画/VOL/轻兰映画 VOL.011/网盘资源分享页.html'),\n",
       " WindowsPath('Y:/Photo/文件夹/人物_re/轻兰映画/VOL/轻兰映画 VOL.012/网盘资源分享页.html'),\n",
       " WindowsPath('Y:/Photo/文件夹/人物_re/轻兰映画/VOL/轻兰映画 VOL.013/网盘资源分享页.html'),\n",
       " WindowsPath('Y:/Photo/文件夹/人物_re/轻兰映画/VOL/轻兰映画 VOL.014/网盘资源分享页.html'),\n",
       " WindowsPath('Y:/Photo/文件夹/人物_re/轻兰映画/VOL/轻兰映画 VOL.015/网盘资源分享页.html'),\n",
       " WindowsPath('Y:/Photo/文件夹/人物_re/轻兰映画/VOL/轻兰映画 VOL.016/网盘资源分享页.html'),\n",
       " WindowsPath('Y:/Photo/文件夹/人物_re/轻兰映画/VOL/轻兰映画 VOL.017/网盘资源分享页.html'),\n",
       " WindowsPath('Y:/Photo/文件夹/人物_re/轻兰映画/VOL/轻兰映画 VOL.018/网盘资源分享页.html'),\n",
       " WindowsPath('Y:/Photo/文件夹/人物_re/轻兰映画/VOL/轻兰映画 VOL.019/网盘资源分享页.html')]"
      ]
     },
     "execution_count": 6,
     "metadata": {},
     "output_type": "execute_result"
    }
   ],
   "source": [
    "from tools.FileOperations import delete_identical_files\n",
    "\n",
    "delete_list = delete_identical_files(new_dict)"
   ]
  },
  {
   "cell_type": "code",
   "execution_count": 2,
   "metadata": {},
   "outputs": [
    {
     "name": "stdout",
     "output_type": "stream",
     "text": [
      "Time for method v1: 0.1008 seconds\n",
      "Time for method v2: 0.0472 seconds\n"
     ]
    }
   ],
   "source": [
    "import timeit\n",
    "from tools.FileOperations import detect_identical_files_v1, detect_identical_files_v2\n",
    "\n",
    "\n",
    "directory_path = r'Q:\\Project\\test'\n",
    "\n",
    "# Measure time for the first method\n",
    "time_v1 = timeit.timeit(lambda: detect_identical_files_v1(directory_path), number=10)\n",
    "print(f\"Time for method v1: {time_v1:.4f} seconds\")\n",
    "\n",
    "# Measure time for the second method\n",
    "time_v2 = timeit.timeit(lambda: detect_identical_files_v2(directory_path), number=10)\n",
    "print(f\"Time for method v2: {time_v2:.4f} seconds\")"
   ]
  },
  {
   "cell_type": "code",
   "execution_count": 1,
   "metadata": {},
   "outputs": [
    {
     "name": "stderr",
     "output_type": "stream",
     "text": [
      "100%|██████████| 1/1 [02:36<00:00, 156.78s/it]\n"
     ]
    },
    {
     "data": {
      "text/plain": [
       "defaultdict(list, {})"
      ]
     },
     "execution_count": 1,
     "metadata": {},
     "output_type": "execute_result"
    }
   ],
   "source": [
    "import sys\n",
    "import os\n",
    "\n",
    "# 确定项目根目录（假设当前工作目录是项目的根目录）\n",
    "project_root = os.path.abspath(\"..\")\n",
    "sys.path.insert(0, project_root)\n",
    "\n",
    "from instances.inst_sub import Suber\n",
    "\n",
    "s = Suber()\n",
    "s.clear_books(r'Q:\\Project\\test\\text')"
   ]
  },
  {
   "cell_type": "code",
   "execution_count": null,
   "metadata": {},
   "outputs": [],
   "source": []
  }
 ],
 "metadata": {
  "kernelspec": {
   "display_name": "toolenv",
   "language": "python",
   "name": "python3"
  },
  "language_info": {
   "codemirror_mode": {
    "name": "ipython",
    "version": 3
   },
   "file_extension": ".py",
   "mimetype": "text/x-python",
   "name": "python",
   "nbconvert_exporter": "python",
   "pygments_lexer": "ipython3",
   "version": "3.10.14"
  }
 },
 "nbformat": 4,
 "nbformat_minor": 2
}
