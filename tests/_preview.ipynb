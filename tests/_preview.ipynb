{
 "cells": [
  {
   "cell_type": "code",
   "execution_count": 5,
   "metadata": {},
   "outputs": [
    {
     "name": "stderr",
     "output_type": "stream",
     "text": [
      "d:\\ProgramData\\mambaforge\\envs\\toolenv\\lib\\site-packages\\torchvision\\models\\_utils.py:208: UserWarning: The parameter 'pretrained' is deprecated since 0.13 and may be removed in the future, please use 'weights' instead.\n",
      "  warnings.warn(\n",
      "d:\\ProgramData\\mambaforge\\envs\\toolenv\\lib\\site-packages\\torchvision\\models\\_utils.py:223: UserWarning: Arguments other than a weight enum or `None` for 'weights' are deprecated since 0.13 and may be removed in the future. The current behavior is equivalent to passing `weights=ResNet50_Weights.IMAGENET1K_V1`. You can also use `weights=ResNet50_Weights.DEFAULT` to get the most up-to-date weights.\n",
      "  warnings.warn(msg)\n",
      " 24%|██▍       | 19/79 [01:00<03:17,  3.29s/it]d:\\ProgramData\\mambaforge\\envs\\toolenv\\lib\\site-packages\\PIL\\Image.py:3368: DecompressionBombWarning: Image size (121848000 pixels) exceeds limit of 89478485 pixels, could be decompression bomb DOS attack.\n",
      "  warnings.warn(\n",
      "100%|██████████| 79/79 [04:14<00:00,  3.22s/it]\n"
     ]
    }
   ],
   "source": [
    "import os\n",
    "import shutil\n",
    "import torch\n",
    "import torchvision.transforms as transforms\n",
    "from torchvision.datasets import ImageFolder\n",
    "from torchvision import models\n",
    "from sklearn.cluster import KMeans\n",
    "from torch.utils.data import DataLoader\n",
    "import numpy as np\n",
    "from tqdm import tqdm\n",
    "from PIL import ImageFile\n",
    "\n",
    "\n",
    "ImageFile.LOAD_TRUNCATED_IMAGES = True\n",
    "\n",
    "# 设置图片预处理步骤\n",
    "transform = transforms.Compose([\n",
    "    transforms.Resize(256),\n",
    "    transforms.CenterCrop(224),\n",
    "    transforms.ToTensor(),\n",
    "    transforms.Normalize(mean=[0.485, 0.456, 0.406], std=[0.229, 0.224, 0.225]),\n",
    "])\n",
    "\n",
    "def jpg_mean(path, n_clusters=10):\n",
    "    # 加载图片\n",
    "    dataset = ImageFolder(path, transform=transform)\n",
    "    dataloader = DataLoader(dataset, batch_size=64, shuffle=False)\n",
    "\n",
    "    # 使用预训练的 ResNet50 模型\n",
    "    model = models.resnet50(pretrained=True)\n",
    "    # model = model.to('cuda')\n",
    "    model.eval()\n",
    "\n",
    "    # 提取图片特征\n",
    "    features = []\n",
    "    for inputs, _ in tqdm(dataloader):\n",
    "        # inputs = inputs.to('cuda')\n",
    "        with torch.no_grad():\n",
    "            outputs = model(inputs)\n",
    "        features.append(outputs.cpu().numpy())\n",
    "\n",
    "    features = np.concatenate(features)\n",
    "\n",
    "    # 使用 K-means 进行聚类\n",
    "    kmeans = KMeans(n_clusters=n_clusters, random_state=0).fit(features)\n",
    "\n",
    "    # 打印聚类结果\n",
    "    # print(kmeans.labels_)\n",
    "\n",
    "    # 提取图片路径\n",
    "    image_paths = [item[0] for item in dataset.samples]\n",
    "\n",
    "    # 创建新的文件夹\n",
    "    for label in set(kmeans.labels_):\n",
    "        os.makedirs(f'{path}\\\\cluster_{label}', exist_ok=True)\n",
    "    #     print(f'{path}\\\\cluster_{label}')\n",
    "\n",
    "    # 将图片移到新的文件夹\n",
    "    for image_path, label in zip(image_paths, kmeans.labels_):\n",
    "        shutil.move(image_path,f'{path}\\\\cluster_{label}/{os.path.basename(image_path)}')\n",
    "\n",
    "\n",
    "jpg_mean(r'Y:\\Photo\\iphone_photo(1-14)_re', 20)\n",
    "# path_list = [r'Z:\\Photo\\Saved Pictures_re\\长图', ]\n",
    "# for path in path_list:\n",
    "#     jpg_mean(path)"
   ]
  },
  {
   "cell_type": "code",
   "execution_count": 1,
   "metadata": {},
   "outputs": [
    {
     "name": "stderr",
     "output_type": "stream",
     "text": [
      "100%|██████████| 2253/2253 [00:04<00:00, 502.05it/s]\n"
     ]
    },
    {
     "data": {
      "text/plain": [
       "[]"
      ]
     },
     "execution_count": 1,
     "metadata": {},
     "output_type": "execute_result"
    }
   ],
   "source": [
    "import sys\n",
    "import os\n",
    "\n",
    "# 确定项目根目录（假设当前工作目录是项目的根目录）\n",
    "project_root = os.path.abspath(\"..\")\n",
    "sys.path.insert(0, project_root)\n",
    "\n",
    "from tools.FileOperations import compress_folder\n",
    "\n",
    "compress_folder(r'Y:\\Photo\\文件夹\\GIF')"
   ]
  },
  {
   "cell_type": "code",
   "execution_count": 7,
   "metadata": {},
   "outputs": [
    {
     "name": "stderr",
     "output_type": "stream",
     "text": [
      "100%|██████████| 3214/3214 [00:00<00:00, 5679.40it/s]\n",
      "100%|██████████| 2930/2930 [00:02<00:00, 1140.25it/s]"
     ]
    },
    {
     "name": "stdout",
     "output_type": "stream",
     "text": [
      "Identical files found:\n",
      "Hash: 8569b0312a8338df430fd71fda7c67563699719cd683b847170f5601acbb3c3e\n",
      " - C:\\Users\\27342\\OneDrive\\Videos\\HHH\\里番_re\\[Queen Bee]ビッチな淫姉さまぁ[1-2]\\[210625][Queen Bee]ビッチな淫姉さまぁ ＃2\\Font.ttf                                      (Size: 9720284 bytes)\n",
      " - C:\\Users\\27342\\OneDrive\\Videos\\HHH\\里番_re\\[鹰][ピンクパイナップル]リアルエロゲシチュエーション！2 THE ANIMATION 第2巻\\[ピンクパイナップル]リアルエロゲシチュエーション！2 THE ANIMATION 第1巻\\Font.ttf (Size: 9720284 bytes)\n",
      " - C:\\Users\\27342\\OneDrive\\Videos\\HHH\\里番_re\\[鹰][ピンクパイナップル]リアルエロゲシチュエーション！2 THE ANIMATION 第2巻\\[ピンクパイナップル]リアルエロゲシチュエーション！2 THE ANIMATION 第2巻\\Font.ttf (Size: 9720284 bytes)\n",
      "Hash: 8af3e7e9cf80b7d76ddc9a4f0a692c8ad2d78a121224244ddc1225ead194d097\n",
      " - C:\\Users\\27342\\OneDrive\\Videos\\HHH\\里番_re\\[宵夜字幕组][PoRO]町ぐるみの罠～白濁にまみれた肢体～ 「チビ可愛ゆいの恥辱ジェラ・ハメ馴染む街コン◆」\\[CG][シロップ] 町ぐるみの罠～白濁にまみれた肢体～\\evat38qa.jpg       (Size: 36613 bytes)\n",
      " - C:\\Users\\27342\\OneDrive\\Videos\\HHH\\里番_re\\[宵夜字幕组][PoRO]町ぐるみの罠～白濁にまみれた肢体～ 「チビ可愛ゆいの恥辱ジェラ・ハメ馴染む街コン◆」\\[CG][シロップ] 町ぐるみの罠～白濁にまみれた肢体～\\etc\\l_evat38qa.jpg (Size: 36613 bytes)\n",
      "Hash: 46598462c64be0b752d91341346a4617d23184e99f9eda80f3fb92be22430c6b\n",
      " - C:\\Users\\27342\\OneDrive\\Videos\\HHH\\里番_re\\[宵夜字幕组][PoRO]町ぐるみの罠～白濁にまみれた肢体～ 「チビ可愛ゆいの恥辱ジェラ・ハメ馴染む街コン◆」\\[CG][シロップ] 町ぐるみの罠～白濁にまみれた肢体～\\evat38qb.jpg       (Size: 36510 bytes)\n",
      " - C:\\Users\\27342\\OneDrive\\Videos\\HHH\\里番_re\\[宵夜字幕组][PoRO]町ぐるみの罠～白濁にまみれた肢体～ 「チビ可愛ゆいの恥辱ジェラ・ハメ馴染む街コン◆」\\[CG][シロップ] 町ぐるみの罠～白濁にまみれた肢体～\\etc\\l_evat38qb.jpg (Size: 36510 bytes)\n",
      "Hash: 0206bb6bf6a0d12a5f393a8347a193e3c2af40851df1883ce5d6076e8e5f6fc3\n",
      " - C:\\Users\\27342\\OneDrive\\Videos\\HHH\\里番_re\\[宵夜字幕组][PoRO]町ぐるみの罠～白濁にまみれた肢体～ 「チビ可愛ゆいの恥辱ジェラ・ハメ馴染む街コン◆」\\[CG][シロップ] 町ぐるみの罠～白濁にまみれた肢体～\\evat38qc.jpg       (Size: 36707 bytes)\n",
      " - C:\\Users\\27342\\OneDrive\\Videos\\HHH\\里番_re\\[宵夜字幕组][PoRO]町ぐるみの罠～白濁にまみれた肢体～ 「チビ可愛ゆいの恥辱ジェラ・ハメ馴染む街コン◆」\\[CG][シロップ] 町ぐるみの罠～白濁にまみれた肢体～\\etc\\l_evat38qc.jpg (Size: 36707 bytes)\n",
      "Hash: 6626a8da28341bbbcea54fc35bcc3bf5fde2fab791fea78ecbcf1a16b7088e58\n",
      " - C:\\Users\\27342\\OneDrive\\Videos\\HHH\\里番_re\\[宵夜字幕组][PoRO]町ぐるみの罠～白濁にまみれた肢体～ 「チビ可愛ゆいの恥辱ジェラ・ハメ馴染む街コン◆」\\[CG][シロップ] 町ぐるみの罠～白濁にまみれた肢体～\\evat38qd.jpg       (Size: 36473 bytes)\n",
      " - C:\\Users\\27342\\OneDrive\\Videos\\HHH\\里番_re\\[宵夜字幕组][PoRO]町ぐるみの罠～白濁にまみれた肢体～ 「チビ可愛ゆいの恥辱ジェラ・ハメ馴染む街コン◆」\\[CG][シロップ] 町ぐるみの罠～白濁にまみれた肢体～\\etc\\l_evat38qd.jpg (Size: 36473 bytes)\n",
      "Hash: 4a355f8031f0e6fd224b525ee9b60b73d56dceeed1a1972b5c147293545852c9\n",
      " - C:\\Users\\27342\\OneDrive\\Videos\\HHH\\里番_re\\[宵夜字幕组][PoRO]町ぐるみの罠～白濁にまみれた肢体～ 「チビ可愛ゆいの恥辱ジェラ・ハメ馴染む街コン◆」\\[CG][シロップ] 町ぐるみの罠～白濁にまみれた肢体～\\evyu01ga.jpg       (Size: 34189 bytes)\n",
      " - C:\\Users\\27342\\OneDrive\\Videos\\HHH\\里番_re\\[宵夜字幕组][PoRO]町ぐるみの罠～白濁にまみれた肢体～ 「チビ可愛ゆいの恥辱ジェラ・ハメ馴染む街コン◆」\\[CG][シロップ] 町ぐるみの罠～白濁にまみれた肢体～\\etc\\l_evyu01ga.jpg (Size: 34189 bytes)\n",
      "Hash: 1d8268c9dcac11efca95490b3d15cc752f84a2547b0c15e55192114e3920b9f0\n",
      " - C:\\Users\\27342\\OneDrive\\Videos\\HHH\\里番_re\\[宵夜字幕组][PoRO]町ぐるみの罠～白濁にまみれた肢体～ 「チビ可愛ゆいの恥辱ジェラ・ハメ馴染む街コン◆」\\[CG][シロップ] 町ぐるみの罠～白濁にまみれた肢体～\\evyu01gb.jpg       (Size: 34182 bytes)\n",
      " - C:\\Users\\27342\\OneDrive\\Videos\\HHH\\里番_re\\[宵夜字幕组][PoRO]町ぐるみの罠～白濁にまみれた肢体～ 「チビ可愛ゆいの恥辱ジェラ・ハメ馴染む街コン◆」\\[CG][シロップ] 町ぐるみの罠～白濁にまみれた肢体～\\etc\\l_evyu01gb.jpg (Size: 34182 bytes)\n",
      "Hash: 1d5b281963b48f58d943810bfa80ba397c65919cfa8091305bf81e456b43f2d7\n",
      " - C:\\Users\\27342\\OneDrive\\Videos\\HHH\\里番_re\\[宵夜字幕组][PoRO]町ぐるみの罠～白濁にまみれた肢体～ 「チビ可愛ゆいの恥辱ジェラ・ハメ馴染む街コン◆」\\[CG][シロップ] 町ぐるみの罠～白濁にまみれた肢体～\\evyu01gc.jpg       (Size: 34725 bytes)\n",
      " - C:\\Users\\27342\\OneDrive\\Videos\\HHH\\里番_re\\[宵夜字幕组][PoRO]町ぐるみの罠～白濁にまみれた肢体～ 「チビ可愛ゆいの恥辱ジェラ・ハメ馴染む街コン◆」\\[CG][シロップ] 町ぐるみの罠～白濁にまみれた肢体～\\etc\\l_evyu01gc.jpg (Size: 34725 bytes)\n",
      "Hash: 1416f72089e33b8bf98ddc0215bb1c4c66efafa4362c85a263ca8cbb1e7196ff\n",
      " - C:\\Users\\27342\\OneDrive\\Videos\\HHH\\里番_re\\[宵夜字幕组][PoRO]町ぐるみの罠～白濁にまみれた肢体～ 「チビ可愛ゆいの恥辱ジェラ・ハメ馴染む街コン◆」\\[CG][シロップ] 町ぐるみの罠～白濁にまみれた肢体～\\evyu01gd.jpg       (Size: 34114 bytes)\n",
      " - C:\\Users\\27342\\OneDrive\\Videos\\HHH\\里番_re\\[宵夜字幕组][PoRO]町ぐるみの罠～白濁にまみれた肢体～ 「チビ可愛ゆいの恥辱ジェラ・ハメ馴染む街コン◆」\\[CG][シロップ] 町ぐるみの罠～白濁にまみれた肢体～\\etc\\l_evyu01gd.jpg (Size: 34114 bytes)\n",
      "Hash: acfea180796b0b154fc086c6446ead9246178758e5fc68ae535952339a4a8dba\n",
      " - C:\\Users\\27342\\OneDrive\\Videos\\HHH\\里番_re\\[宵夜字幕组][PoRO]町ぐるみの罠～白濁にまみれた肢体～ 「チビ可愛ゆいの恥辱ジェラ・ハメ馴染む街コン◆」\\[CG][シロップ] 町ぐるみの罠～白濁にまみれた肢体～\\evyu01ge.jpg       (Size: 34123 bytes)\n",
      " - C:\\Users\\27342\\OneDrive\\Videos\\HHH\\里番_re\\[宵夜字幕组][PoRO]町ぐるみの罠～白濁にまみれた肢体～ 「チビ可愛ゆいの恥辱ジェラ・ハメ馴染む街コン◆」\\[CG][シロップ] 町ぐるみの罠～白濁にまみれた肢体～\\etc\\l_evyu01ge.jpg (Size: 34123 bytes)\n",
      "Hash: 721afedbbbd8480673f2feac9b08d75147b365ac71e11af1bd757e911614c0b7\n",
      " - C:\\Users\\27342\\OneDrive\\Videos\\HHH\\里番_re\\[宵夜字幕组][PoRO]町ぐるみの罠～白濁にまみれた肢体～ 「チビ可愛ゆいの恥辱ジェラ・ハメ馴染む街コン◆」\\[CG][シロップ] 町ぐるみの罠～白濁にまみれた肢体～\\evyu01gf.jpg       (Size: 34662 bytes)\n",
      " - C:\\Users\\27342\\OneDrive\\Videos\\HHH\\里番_re\\[宵夜字幕组][PoRO]町ぐるみの罠～白濁にまみれた肢体～ 「チビ可愛ゆいの恥辱ジェラ・ハメ馴染む街コン◆」\\[CG][シロップ] 町ぐるみの罠～白濁にまみれた肢体～\\etc\\l_evyu01gf.jpg (Size: 34662 bytes)\n",
      "Hash: 38df542f5863f0164e0c9a4ecfb30460a553afc186078b8878cbe0ce469c2d0d\n",
      " - C:\\Users\\27342\\OneDrive\\Videos\\HHH\\里番_re\\[宵夜字幕组][PoRO]町ぐるみの罠～白濁にまみれた肢体～ 「チビ可愛ゆいの恥辱ジェラ・ハメ馴染む街コン◆」\\[CG][シロップ] 町ぐるみの罠～白濁にまみれた肢体～\\evyu01ha.jpg       (Size: 35003 bytes)\n",
      " - C:\\Users\\27342\\OneDrive\\Videos\\HHH\\里番_re\\[宵夜字幕组][PoRO]町ぐるみの罠～白濁にまみれた肢体～ 「チビ可愛ゆいの恥辱ジェラ・ハメ馴染む街コン◆」\\[CG][シロップ] 町ぐるみの罠～白濁にまみれた肢体～\\etc\\l_evyu01ha.jpg (Size: 35003 bytes)\n",
      "Hash: 2486e37ecdb0391a10b18f0dd950e6e23d890ea26f66c09aaf2d11b451147392\n",
      " - C:\\Users\\27342\\OneDrive\\Videos\\HHH\\里番_re\\[宵夜字幕组][PoRO]町ぐるみの罠～白濁にまみれた肢体～ 「チビ可愛ゆいの恥辱ジェラ・ハメ馴染む街コン◆」\\[CG][シロップ] 町ぐるみの罠～白濁にまみれた肢体～\\evyu01hb.jpg       (Size: 34993 bytes)\n",
      " - C:\\Users\\27342\\OneDrive\\Videos\\HHH\\里番_re\\[宵夜字幕组][PoRO]町ぐるみの罠～白濁にまみれた肢体～ 「チビ可愛ゆいの恥辱ジェラ・ハメ馴染む街コン◆」\\[CG][シロップ] 町ぐるみの罠～白濁にまみれた肢体～\\etc\\l_evyu01hb.jpg (Size: 34993 bytes)\n",
      "Hash: 8fe42993b7c5f94ecddd81767efae4fd31f8fe2d029b5067a8a068cacfa58955\n",
      " - C:\\Users\\27342\\OneDrive\\Videos\\HHH\\里番_re\\[宵夜字幕组][PoRO]町ぐるみの罠～白濁にまみれた肢体～ 「チビ可愛ゆいの恥辱ジェラ・ハメ馴染む街コン◆」\\[CG][シロップ] 町ぐるみの罠～白濁にまみれた肢体～\\evyu01hc.jpg       (Size: 35517 bytes)\n",
      " - C:\\Users\\27342\\OneDrive\\Videos\\HHH\\里番_re\\[宵夜字幕组][PoRO]町ぐるみの罠～白濁にまみれた肢体～ 「チビ可愛ゆいの恥辱ジェラ・ハメ馴染む街コン◆」\\[CG][シロップ] 町ぐるみの罠～白濁にまみれた肢体～\\etc\\l_evyu01hc.jpg (Size: 35517 bytes)\n",
      "Hash: a38c5f0d8ef3112e452d9ec26c307f5d0e031c2e44618e8fc634b78f9dabbea2\n",
      " - C:\\Users\\27342\\OneDrive\\Videos\\HHH\\里番_re\\[宵夜字幕组][PoRO]町ぐるみの罠～白濁にまみれた肢体～ 「チビ可愛ゆいの恥辱ジェラ・ハメ馴染む街コン◆」\\[CG][シロップ] 町ぐるみの罠～白濁にまみれた肢体～\\evyu01ja.jpg       (Size: 35230 bytes)\n",
      " - C:\\Users\\27342\\OneDrive\\Videos\\HHH\\里番_re\\[宵夜字幕组][PoRO]町ぐるみの罠～白濁にまみれた肢体～ 「チビ可愛ゆいの恥辱ジェラ・ハメ馴染む街コン◆」\\[CG][シロップ] 町ぐるみの罠～白濁にまみれた肢体～\\etc\\l_evyu01ja.jpg (Size: 35230 bytes)\n",
      "Hash: e8586e9201b9a72d6878e0f6977c8b55310aab8e44e6fb51419be28438b75f15\n",
      " - C:\\Users\\27342\\OneDrive\\Videos\\HHH\\里番_re\\[宵夜字幕组][PoRO]町ぐるみの罠～白濁にまみれた肢体～ 「チビ可愛ゆいの恥辱ジェラ・ハメ馴染む街コン◆」\\[CG][シロップ] 町ぐるみの罠～白濁にまみれた肢体～\\evyu01jb.jpg       (Size: 35210 bytes)\n",
      " - C:\\Users\\27342\\OneDrive\\Videos\\HHH\\里番_re\\[宵夜字幕组][PoRO]町ぐるみの罠～白濁にまみれた肢体～ 「チビ可愛ゆいの恥辱ジェラ・ハメ馴染む街コン◆」\\[CG][シロップ] 町ぐるみの罠～白濁にまみれた肢体～\\etc\\l_evyu01jb.jpg (Size: 35210 bytes)\n",
      "Hash: 0a47bd2026a744eaaede6c2dc235ec141291f11ad8f97249b6ed26c31e771368\n",
      " - C:\\Users\\27342\\OneDrive\\Videos\\HHH\\里番_re\\[宵夜字幕组][PoRO]町ぐるみの罠～白濁にまみれた肢体～ 「チビ可愛ゆいの恥辱ジェラ・ハメ馴染む街コン◆」\\[宵夜RIP部][PoRO]町ぐるみの罠～白濁にまみれた肢体～ 「敦子先生は白濁塗れ·らっき～恥虐辱め尽し」[1280x720 x264 AAC]\\外挂字幕\\声明.txt (Size: 117 bytes)\n",
      " - C:\\Users\\27342\\OneDrive\\Videos\\HHH\\里番_re\\[宵夜字幕组][PoRO]町ぐるみの罠～白濁にまみれた肢体～ 「チビ可愛ゆいの恥辱ジェラ・ハメ馴染む街コン◆」\\[宵夜RIP部][PoRO]町ぐるみの罠～白濁にまみれた肢体～ 下巻「ゆいのお尻がっ……」[1280x720 x264 AAC]\\外挂字幕\\声明.txt          (Size: 117 bytes)\n",
      " - C:\\Users\\27342\\OneDrive\\Videos\\HHH\\里番_re\\[宵夜字幕组][PoRO]町ぐるみの罠～白濁にまみれた肢体～ 「チビ可愛ゆいの恥辱ジェラ・ハメ馴染む街コン◆」\\[宵夜RIP部][PoRO]町ぐるみの罠～白濁にまみれた肢體～ 上巻 「白濁に墮ちる白墨」[1280x720 x264 AAC]\\外挂字幕\\声明.txt          (Size: 117 bytes)\n",
      "Hash: 798e97947db21b2a09e67b6d5502744c86812a29c795142d68936b9fe8e8d9ea\n",
      " - C:\\Users\\27342\\OneDrive\\Videos\\HHH\\里番_re\\[桜都字幕组][190329][ピンクパイナップル]性活週間 THE ANIMATION 第1巻\\桜都字幕组招募中～.jpg          (Size: 205631 bytes)\n",
      " - C:\\Users\\27342\\OneDrive\\Videos\\HHH\\里番_re\\[桜都字幕组][190830][nur]そしてわたしはおじさんに…… 「色褪せた憎しみ」\\桜都字幕组招募中～.jpg              (Size: 205631 bytes)\n",
      " - C:\\Users\\27342\\OneDrive\\Videos\\HHH\\里番_re\\[桜都字幕组][自购片源][190830][ピンクパイナップル]マスターピース THE ANIMATION 第2巻\\桜都字幕组招募中～.jpg (Size: 205631 bytes)\n",
      "Hash: bed11d94b5d4fa7993c2291c3bade837d223c6d403d74c87869ae917d9945626\n",
      " - C:\\Users\\27342\\OneDrive\\Videos\\HHH\\里番_re\\[桜都字幕组][Collaboration Works]バカな妹を利口にするのは俺の××だけな件について ミルク大好き！！ 御津井 芭華編\\桜都字幕组招募中～.jpg                                                                                    (Size: 151233 bytes)\n",
      " - C:\\Users\\27342\\OneDrive\\Videos\\HHH\\里番_re\\[桜都字幕组][Collaboration Works]バカな妹を利口にするのは俺の××だけな件について ミルク大好き！！ 御津井 芭華編\\[桜都字幕组][Collaboration Works]バカな妹を利口にするのは俺の××だけな件について アイスも大好き！！ 御津井 芭華下のお口で頬張っちゃうぞ編\\桜都字幕组招募中～.jpg (Size: 151233 bytes)\n",
      " - C:\\Users\\27342\\OneDrive\\Videos\\HHH\\里番_re\\[桜都字幕组][PoRO]鬼父 化ケーション 「小生意気タヌキぽんぽこぽん」\\桜都字幕组招募中～.jpg                                                                                                                   (Size: 151233 bytes)\n",
      "Hash: ff0c3c842de1170ea122c1ebf5815b8382dc22d00c6b82b2f572659d14d770ff\n",
      " - C:\\Users\\27342\\OneDrive\\Videos\\HHH\\里番_re\\[桜都字幕组][PoRO petit]催眠☆学園 「～剥がれ堕ちるナマイキ～」\\桜都字幕组招募中～.jpg              (Size: 198372 bytes)\n",
      " - C:\\Users\\27342\\OneDrive\\Videos\\HHH\\里番_re\\[桜都字幕组][メリー・ジェーン]都市伝説シリーズ 其の陸 集結！エロカワ怪異\\桜都字幕组招募中～.jpg              (Size: 198372 bytes)\n",
      " - C:\\Users\\27342\\OneDrive\\Videos\\HHH\\里番_re\\[桜都字幕组][魔人 petit]Tiny Evil 第一話 幼淫魔・みゆ～煉獄へ誘（いざな）う腰振り～\\桜都字幕组招募中～.jpg (Size: 198372 bytes)\n",
      "Hash: d0a2978d2d381423939a2cd9ffdd8b73533d753af08a1bd7ed5901c5a31573a5\n",
      " - C:\\Users\\27342\\OneDrive\\Videos\\HHH\\里番_re\\[桜都字幕组][メリー・ジェーン]都市伝説シリーズ 其の陸 集結！エロカワ怪異\\[桜都字幕组][メリー・ジェーン]都市伝説シリーズ 其の参 八尺さん\\[桜都字幕组][720P][メリー・ジェーン]都市伝説シリーズ 其の参 八尺さん_compressed.mp4      (Size: 147769768 bytes)\n",
      " - C:\\Users\\27342\\OneDrive\\Videos\\HHH\\里番_re\\[桜都字幕组][メリー・ジェーン]都市伝説シリーズ 其の陸 集結！エロカワ怪異\\[桜都字幕组][メリー・ジェーン]都市伝説シリーズ 其の肆 メリーちゃんの電話\\[桜都字幕组][720P][メリー・ジェーン]都市伝説シリーズ 其の参 八尺さん_compressed.mp4 (Size: 147769768 bytes)\n",
      "Hash: 60152d295eab26e6b93b865c2ef52c33f14cca663a28f48ab025fe7f02093b70\n",
      " - C:\\Users\\27342\\OneDrive\\Videos\\HHH\\里番_re\\[桜都字幕组][メリー・ジェーン]都市伝説シリーズ 其の陸 集結！エロカワ怪異\\[桜都字幕组][メリー・ジェーン]都市伝説シリーズ 其の壱 トイレのHanakoさん\\[桜都字幕组][720P][メリー・ジェーン]都市伝説シリーズ 其の壱トイレのHanakoさん_compressed.mp4 (Size: 113503686 bytes)\n",
      " - C:\\Users\\27342\\OneDrive\\Videos\\HHH\\里番_re\\[桜都字幕组][メリー・ジェーン]都市伝説シリーズ 其の陸 集結！エロカワ怪異\\[桜都字幕组][メリー・ジェーン]都市伝説シリーズ 其の肆 メリーちゃんの電話\\[桜都字幕组][720P] [メリー・ジェーン]都市伝説シリーズ 其の壱トイレのHanakoさん_compressed.mp4   (Size: 113503686 bytes)\n",
      "Hash: c89e16307fb5bec5e85c194dad0593c00ff3d3d9d6fdacc49e61b62b9b0ba04f\n",
      " - C:\\Users\\27342\\OneDrive\\Videos\\HHH\\里番_re\\[桜都字幕组][メリー・ジェーン]都市伝説シリーズ 其の陸 集結！エロカワ怪異\\[桜都字幕组][メリー・ジェーン]都市伝説シリーズ 其の弐 ェ呪いのビデオ\\[桜都字幕组][720P][メリー･ジェーン]都市伝説シリーズ 其の弐 ェ呪いのビデオ(waifu2x)_compressed.mp4   (Size: 148682583 bytes)\n",
      " - C:\\Users\\27342\\OneDrive\\Videos\\HHH\\里番_re\\[桜都字幕组][メリー・ジェーン]都市伝説シリーズ 其の陸 集結！エロカワ怪異\\[桜都字幕组][メリー・ジェーン]都市伝説シリーズ 其の肆 メリーちゃんの電話\\[桜都字幕组][720P][メリー･ジェーン]都市伝説シリーズ 其の弐 ェ呪いのビデオ(waifu2x)_compressed.mp4 (Size: 148682583 bytes)\n",
      "Hash: 9038209edd8c467d173ba98d58dfc3354ac4b6f98159d95011052d6a1e2f0bef\n",
      " - C:\\Users\\27342\\OneDrive\\Videos\\HHH\\里番_re\\[脸肿字幕组][chippai] ちっちゃなおなか -恵未ちゃんてさ[先行版]\\脸肿字幕组人才招募中.jpg (Size: 143793 bytes)\n",
      " - C:\\Users\\27342\\OneDrive\\Videos\\HHH\\里番_re\\[脸肿字幕组][ばにぃうぉ～か～]巨乳令嬢MC学園 ＃2「女帝の陥落」\\脸肿字幕组人才招募中.jpg     (Size: 143793 bytes)\n",
      "Hash: e367695246d12838473f3063be61c3694eeaf4b9b18f16c61fe9936294a1e396\n",
      " - C:\\Users\\27342\\OneDrive\\Videos\\HHH\\里番_re\\[鹰][ばにぃうぉ～か～]OVAJ○フーゾク学園祭 ＃[1-2]\\鹰の招募.jpg         (Size: 202521 bytes)\n",
      " - C:\\Users\\27342\\OneDrive\\Videos\\HHH\\里番_re\\[鹰][ピンクパイナップル]搾精病棟 THE ANIMATION ～タチバナ編～\\鹰の招募.jpg (Size: 202521 bytes)\n"
     ]
    },
    {
     "name": "stderr",
     "output_type": "stream",
     "text": [
      "\n"
     ]
    }
   ],
   "source": [
    "import sys\n",
    "import os\n",
    "\n",
    "# 确定项目根目录（假设当前工作目录是项目的根目录）\n",
    "project_root = os.path.abspath(\"..\")\n",
    "sys.path.insert(0, project_root)\n",
    "\n",
    "from tools.FileOperations import detect_identical_files, duplicate_files_report, move_identical_files, print_directory_structure\n",
    "\n",
    "# Example usage:\n",
    "directory_path = r'C:\\Users\\27342\\OneDrive\\Videos'\n",
    "identical_files = detect_identical_files(directory_path)\n",
    "print(duplicate_files_report(identical_files))\n",
    "# print_directory_structure(directory_path)\n"
   ]
  },
  {
   "cell_type": "code",
   "execution_count": 4,
   "metadata": {},
   "outputs": [
    {
     "name": "stdout",
     "output_type": "stream",
     "text": [
      "Moved: Q:\\Project\\test\\0.jpg -> Q:\\Project\\test\\duplicate\\cde27280cedbe9c35933844f68a175f1713404397b0d3b170445eaeca60eb037\\0.jpg\n",
      "Error moving Q:\\Project\\test\\test_jpg\\0.jpg to Q:\\Project\\test\\duplicate\\cde27280cedbe9c35933844f68a175f1713404397b0d3b170445eaeca60eb037\\0.jpg: [WinError 183] Cannot create a file when that file already exists: 'Q:\\\\Project\\\\test\\\\test_jpg\\\\0.jpg' -> 'Q:\\\\Project\\\\test\\\\duplicate\\\\cde27280cedbe9c35933844f68a175f1713404397b0d3b170445eaeca60eb037\\\\0.jpg'\n",
      "Moved: Q:\\Project\\test\\text_img(rgba) - Copy.png -> Q:\\Project\\test\\duplicate\\547420e15b18362bf10ad95922351bf9e23ceb00da9818edc8466f6d040782e9\\text_img(rgba) - Copy.png\n",
      "Moved: Q:\\Project\\test\\text_img(rgba).png -> Q:\\Project\\test\\duplicate\\547420e15b18362bf10ad95922351bf9e23ceb00da9818edc8466f6d040782e9\\text_img(rgba).png\n",
      "Moved: Q:\\Project\\test\\text_img(rgba).txt -> Q:\\Project\\test\\duplicate\\7f83b1657ff1fc53b92dc18148a1d65dfc2d4b1fa3d677284addd200126d9069\\text_img(rgba).txt\n",
      "Moved: Q:\\Project\\test\\text_img.txt -> Q:\\Project\\test\\duplicate\\7f83b1657ff1fc53b92dc18148a1d65dfc2d4b1fa3d677284addd200126d9069\\text_img.txt\n"
     ]
    },
    {
     "data": {
      "text/plain": [
       "[(WindowsPath('Q:/Project/test/0.jpg'),\n",
       "  WindowsPath('Q:/Project/test/duplicate/cde27280cedbe9c35933844f68a175f1713404397b0d3b170445eaeca60eb037/0.jpg')),\n",
       " (WindowsPath('Q:/Project/test/text_img(rgba) - Copy.png'),\n",
       "  WindowsPath('Q:/Project/test/duplicate/547420e15b18362bf10ad95922351bf9e23ceb00da9818edc8466f6d040782e9/text_img(rgba) - Copy.png')),\n",
       " (WindowsPath('Q:/Project/test/text_img(rgba).png'),\n",
       "  WindowsPath('Q:/Project/test/duplicate/547420e15b18362bf10ad95922351bf9e23ceb00da9818edc8466f6d040782e9/text_img(rgba).png')),\n",
       " (WindowsPath('Q:/Project/test/text_img(rgba).txt'),\n",
       "  WindowsPath('Q:/Project/test/duplicate/7f83b1657ff1fc53b92dc18148a1d65dfc2d4b1fa3d677284addd200126d9069/text_img(rgba).txt')),\n",
       " (WindowsPath('Q:/Project/test/text_img.txt'),\n",
       "  WindowsPath('Q:/Project/test/duplicate/7f83b1657ff1fc53b92dc18148a1d65dfc2d4b1fa3d677284addd200126d9069/text_img.txt'))]"
      ]
     },
     "execution_count": 4,
     "metadata": {},
     "output_type": "execute_result"
    }
   ],
   "source": [
    "move_identical_files(identical_files, directory_path + '\\\\duplicate')"
   ]
  },
  {
   "cell_type": "code",
   "execution_count": 5,
   "metadata": {},
   "outputs": [
    {
     "data": {
      "text/plain": [
       "{('735c2257fa1cfef50f3840fa91fd9602237a1a147fb70848587e68f849f4ad39',\n",
       "  16681): [WindowsPath('Y:/Photo/文件夹/人物_re/轻兰映画/SPL/轻兰映画 SPL.001/网盘资源分享页.html'), WindowsPath('Y:/Photo/文件夹/人物_re/轻兰映画/SPL/轻兰映画 SPL.002/网盘资源分享页.html'), WindowsPath('Y:/Photo/文件夹/人物_re/轻兰映画/SPL/轻兰映画 SPL.003/网盘资源分享页.html'), WindowsPath('Y:/Photo/文件夹/人物_re/轻兰映画/SPL/轻兰映画 SPL.004/网盘资源分享页.html'), WindowsPath('Y:/Photo/文件夹/人物_re/轻兰映画/SPL/轻兰映画 SPL.005/网盘资源分享页.html'), WindowsPath('Y:/Photo/文件夹/人物_re/轻兰映画/SPL/轻兰映画 SPL.006/网盘资源分享页.html'), WindowsPath('Y:/Photo/文件夹/人物_re/轻兰映画/SPL/轻兰映画 SPL.007/网盘资源分享页.html'), WindowsPath('Y:/Photo/文件夹/人物_re/轻兰映画/SPL/轻兰映画 SPL.008/网盘资源分享页.html'), WindowsPath('Y:/Photo/文件夹/人物_re/轻兰映画/SPL/轻兰映画 SPL.009/网盘资源分享页.html'), WindowsPath('Y:/Photo/文件夹/人物_re/轻兰映画/SPL/轻兰映画 SPL.010/网盘资源分享页.html'), WindowsPath('Y:/Photo/文件夹/人物_re/轻兰映画/SPL/轻兰映画 SPL.011/网盘资源分享页.html'), WindowsPath('Y:/Photo/文件夹/人物_re/轻兰映画/SPL/轻兰映画 SPL.012/网盘资源分享页.html'), WindowsPath('Y:/Photo/文件夹/人物_re/轻兰映画/VOL/轻兰映画 VOL.001/网盘资源分享页.html'), WindowsPath('Y:/Photo/文件夹/人物_re/轻兰映画/VOL/轻兰映画 VOL.002/网盘资源分享页.html'), WindowsPath('Y:/Photo/文件夹/人物_re/轻兰映画/VOL/轻兰映画 VOL.003/网盘资源分享页.html'), WindowsPath('Y:/Photo/文件夹/人物_re/轻兰映画/VOL/轻兰映画 VOL.004/网盘资源分享页.html'), WindowsPath('Y:/Photo/文件夹/人物_re/轻兰映画/VOL/轻兰映画 VOL.005/网盘资源分享页.html'), WindowsPath('Y:/Photo/文件夹/人物_re/轻兰映画/VOL/轻兰映画 VOL.006/网盘资源分享页.html'), WindowsPath('Y:/Photo/文件夹/人物_re/轻兰映画/VOL/轻兰映画 VOL.007/网盘资源分享页.html'), WindowsPath('Y:/Photo/文件夹/人物_re/轻兰映画/VOL/轻兰映画 VOL.008/网盘资源分享页.html'), WindowsPath('Y:/Photo/文件夹/人物_re/轻兰映画/VOL/轻兰映画 VOL.009/网盘资源分享页.html'), WindowsPath('Y:/Photo/文件夹/人物_re/轻兰映画/VOL/轻兰映画 VOL.010/网盘资源分享页.html'), WindowsPath('Y:/Photo/文件夹/人物_re/轻兰映画/VOL/轻兰映画 VOL.011/网盘资源分享页.html'), WindowsPath('Y:/Photo/文件夹/人物_re/轻兰映画/VOL/轻兰映画 VOL.012/网盘资源分享页.html'), WindowsPath('Y:/Photo/文件夹/人物_re/轻兰映画/VOL/轻兰映画 VOL.013/网盘资源分享页.html'), WindowsPath('Y:/Photo/文件夹/人物_re/轻兰映画/VOL/轻兰映画 VOL.014/网盘资源分享页.html'), WindowsPath('Y:/Photo/文件夹/人物_re/轻兰映画/VOL/轻兰映画 VOL.015/网盘资源分享页.html'), WindowsPath('Y:/Photo/文件夹/人物_re/轻兰映画/VOL/轻兰映画 VOL.016/网盘资源分享页.html'), WindowsPath('Y:/Photo/文件夹/人物_re/轻兰映画/VOL/轻兰映画 VOL.017/网盘资源分享页.html'), WindowsPath('Y:/Photo/文件夹/人物_re/轻兰映画/VOL/轻兰映画 VOL.018/网盘资源分享页.html'), WindowsPath('Y:/Photo/文件夹/人物_re/轻兰映画/VOL/轻兰映画 VOL.019/网盘资源分享页.html')]}"
      ]
     },
     "execution_count": 5,
     "metadata": {},
     "output_type": "execute_result"
    }
   ],
   "source": [
    "keys_to_select = [(\"735c2257fa1cfef50f3840fa91fd9602237a1a147fb70848587e68f849f4ad39\", 16681 )]\n",
    "\n",
    "new_dict = {key: identical_files[key] for key in keys_to_select if key in identical_files}\n",
    "new_dict"
   ]
  },
  {
   "cell_type": "code",
   "execution_count": 6,
   "metadata": {},
   "outputs": [
    {
     "name": "stdout",
     "output_type": "stream",
     "text": [
      "Deleted: Y:\\Photo\\文件夹\\人物_re\\轻兰映画\\SPL\\轻兰映画 SPL.001\\网盘资源分享页.html\n",
      "Deleted: Y:\\Photo\\文件夹\\人物_re\\轻兰映画\\SPL\\轻兰映画 SPL.002\\网盘资源分享页.html\n",
      "Deleted: Y:\\Photo\\文件夹\\人物_re\\轻兰映画\\SPL\\轻兰映画 SPL.003\\网盘资源分享页.html\n",
      "Deleted: Y:\\Photo\\文件夹\\人物_re\\轻兰映画\\SPL\\轻兰映画 SPL.004\\网盘资源分享页.html\n",
      "Deleted: Y:\\Photo\\文件夹\\人物_re\\轻兰映画\\SPL\\轻兰映画 SPL.005\\网盘资源分享页.html\n",
      "Deleted: Y:\\Photo\\文件夹\\人物_re\\轻兰映画\\SPL\\轻兰映画 SPL.006\\网盘资源分享页.html\n",
      "Deleted: Y:\\Photo\\文件夹\\人物_re\\轻兰映画\\SPL\\轻兰映画 SPL.007\\网盘资源分享页.html\n",
      "Deleted: Y:\\Photo\\文件夹\\人物_re\\轻兰映画\\SPL\\轻兰映画 SPL.008\\网盘资源分享页.html\n",
      "Deleted: Y:\\Photo\\文件夹\\人物_re\\轻兰映画\\SPL\\轻兰映画 SPL.009\\网盘资源分享页.html\n",
      "Deleted: Y:\\Photo\\文件夹\\人物_re\\轻兰映画\\SPL\\轻兰映画 SPL.010\\网盘资源分享页.html\n",
      "Deleted: Y:\\Photo\\文件夹\\人物_re\\轻兰映画\\SPL\\轻兰映画 SPL.011\\网盘资源分享页.html\n",
      "Deleted: Y:\\Photo\\文件夹\\人物_re\\轻兰映画\\SPL\\轻兰映画 SPL.012\\网盘资源分享页.html\n",
      "Deleted: Y:\\Photo\\文件夹\\人物_re\\轻兰映画\\VOL\\轻兰映画 VOL.001\\网盘资源分享页.html\n",
      "Deleted: Y:\\Photo\\文件夹\\人物_re\\轻兰映画\\VOL\\轻兰映画 VOL.002\\网盘资源分享页.html\n",
      "Deleted: Y:\\Photo\\文件夹\\人物_re\\轻兰映画\\VOL\\轻兰映画 VOL.003\\网盘资源分享页.html\n",
      "Deleted: Y:\\Photo\\文件夹\\人物_re\\轻兰映画\\VOL\\轻兰映画 VOL.004\\网盘资源分享页.html\n",
      "Deleted: Y:\\Photo\\文件夹\\人物_re\\轻兰映画\\VOL\\轻兰映画 VOL.005\\网盘资源分享页.html\n",
      "Deleted: Y:\\Photo\\文件夹\\人物_re\\轻兰映画\\VOL\\轻兰映画 VOL.006\\网盘资源分享页.html\n",
      "Deleted: Y:\\Photo\\文件夹\\人物_re\\轻兰映画\\VOL\\轻兰映画 VOL.007\\网盘资源分享页.html\n",
      "Deleted: Y:\\Photo\\文件夹\\人物_re\\轻兰映画\\VOL\\轻兰映画 VOL.008\\网盘资源分享页.html\n",
      "Deleted: Y:\\Photo\\文件夹\\人物_re\\轻兰映画\\VOL\\轻兰映画 VOL.009\\网盘资源分享页.html\n",
      "Deleted: Y:\\Photo\\文件夹\\人物_re\\轻兰映画\\VOL\\轻兰映画 VOL.010\\网盘资源分享页.html\n",
      "Deleted: Y:\\Photo\\文件夹\\人物_re\\轻兰映画\\VOL\\轻兰映画 VOL.011\\网盘资源分享页.html\n",
      "Deleted: Y:\\Photo\\文件夹\\人物_re\\轻兰映画\\VOL\\轻兰映画 VOL.012\\网盘资源分享页.html\n",
      "Deleted: Y:\\Photo\\文件夹\\人物_re\\轻兰映画\\VOL\\轻兰映画 VOL.013\\网盘资源分享页.html\n",
      "Deleted: Y:\\Photo\\文件夹\\人物_re\\轻兰映画\\VOL\\轻兰映画 VOL.014\\网盘资源分享页.html\n",
      "Deleted: Y:\\Photo\\文件夹\\人物_re\\轻兰映画\\VOL\\轻兰映画 VOL.015\\网盘资源分享页.html\n",
      "Deleted: Y:\\Photo\\文件夹\\人物_re\\轻兰映画\\VOL\\轻兰映画 VOL.016\\网盘资源分享页.html\n",
      "Deleted: Y:\\Photo\\文件夹\\人物_re\\轻兰映画\\VOL\\轻兰映画 VOL.017\\网盘资源分享页.html\n",
      "Deleted: Y:\\Photo\\文件夹\\人物_re\\轻兰映画\\VOL\\轻兰映画 VOL.018\\网盘资源分享页.html\n",
      "Deleted: Y:\\Photo\\文件夹\\人物_re\\轻兰映画\\VOL\\轻兰映画 VOL.019\\网盘资源分享页.html\n"
     ]
    },
    {
     "data": {
      "text/plain": [
       "[WindowsPath('Y:/Photo/文件夹/人物_re/轻兰映画/SPL/轻兰映画 SPL.001/网盘资源分享页.html'),\n",
       " WindowsPath('Y:/Photo/文件夹/人物_re/轻兰映画/SPL/轻兰映画 SPL.002/网盘资源分享页.html'),\n",
       " WindowsPath('Y:/Photo/文件夹/人物_re/轻兰映画/SPL/轻兰映画 SPL.003/网盘资源分享页.html'),\n",
       " WindowsPath('Y:/Photo/文件夹/人物_re/轻兰映画/SPL/轻兰映画 SPL.004/网盘资源分享页.html'),\n",
       " WindowsPath('Y:/Photo/文件夹/人物_re/轻兰映画/SPL/轻兰映画 SPL.005/网盘资源分享页.html'),\n",
       " WindowsPath('Y:/Photo/文件夹/人物_re/轻兰映画/SPL/轻兰映画 SPL.006/网盘资源分享页.html'),\n",
       " WindowsPath('Y:/Photo/文件夹/人物_re/轻兰映画/SPL/轻兰映画 SPL.007/网盘资源分享页.html'),\n",
       " WindowsPath('Y:/Photo/文件夹/人物_re/轻兰映画/SPL/轻兰映画 SPL.008/网盘资源分享页.html'),\n",
       " WindowsPath('Y:/Photo/文件夹/人物_re/轻兰映画/SPL/轻兰映画 SPL.009/网盘资源分享页.html'),\n",
       " WindowsPath('Y:/Photo/文件夹/人物_re/轻兰映画/SPL/轻兰映画 SPL.010/网盘资源分享页.html'),\n",
       " WindowsPath('Y:/Photo/文件夹/人物_re/轻兰映画/SPL/轻兰映画 SPL.011/网盘资源分享页.html'),\n",
       " WindowsPath('Y:/Photo/文件夹/人物_re/轻兰映画/SPL/轻兰映画 SPL.012/网盘资源分享页.html'),\n",
       " WindowsPath('Y:/Photo/文件夹/人物_re/轻兰映画/VOL/轻兰映画 VOL.001/网盘资源分享页.html'),\n",
       " WindowsPath('Y:/Photo/文件夹/人物_re/轻兰映画/VOL/轻兰映画 VOL.002/网盘资源分享页.html'),\n",
       " WindowsPath('Y:/Photo/文件夹/人物_re/轻兰映画/VOL/轻兰映画 VOL.003/网盘资源分享页.html'),\n",
       " WindowsPath('Y:/Photo/文件夹/人物_re/轻兰映画/VOL/轻兰映画 VOL.004/网盘资源分享页.html'),\n",
       " WindowsPath('Y:/Photo/文件夹/人物_re/轻兰映画/VOL/轻兰映画 VOL.005/网盘资源分享页.html'),\n",
       " WindowsPath('Y:/Photo/文件夹/人物_re/轻兰映画/VOL/轻兰映画 VOL.006/网盘资源分享页.html'),\n",
       " WindowsPath('Y:/Photo/文件夹/人物_re/轻兰映画/VOL/轻兰映画 VOL.007/网盘资源分享页.html'),\n",
       " WindowsPath('Y:/Photo/文件夹/人物_re/轻兰映画/VOL/轻兰映画 VOL.008/网盘资源分享页.html'),\n",
       " WindowsPath('Y:/Photo/文件夹/人物_re/轻兰映画/VOL/轻兰映画 VOL.009/网盘资源分享页.html'),\n",
       " WindowsPath('Y:/Photo/文件夹/人物_re/轻兰映画/VOL/轻兰映画 VOL.010/网盘资源分享页.html'),\n",
       " WindowsPath('Y:/Photo/文件夹/人物_re/轻兰映画/VOL/轻兰映画 VOL.011/网盘资源分享页.html'),\n",
       " WindowsPath('Y:/Photo/文件夹/人物_re/轻兰映画/VOL/轻兰映画 VOL.012/网盘资源分享页.html'),\n",
       " WindowsPath('Y:/Photo/文件夹/人物_re/轻兰映画/VOL/轻兰映画 VOL.013/网盘资源分享页.html'),\n",
       " WindowsPath('Y:/Photo/文件夹/人物_re/轻兰映画/VOL/轻兰映画 VOL.014/网盘资源分享页.html'),\n",
       " WindowsPath('Y:/Photo/文件夹/人物_re/轻兰映画/VOL/轻兰映画 VOL.015/网盘资源分享页.html'),\n",
       " WindowsPath('Y:/Photo/文件夹/人物_re/轻兰映画/VOL/轻兰映画 VOL.016/网盘资源分享页.html'),\n",
       " WindowsPath('Y:/Photo/文件夹/人物_re/轻兰映画/VOL/轻兰映画 VOL.017/网盘资源分享页.html'),\n",
       " WindowsPath('Y:/Photo/文件夹/人物_re/轻兰映画/VOL/轻兰映画 VOL.018/网盘资源分享页.html'),\n",
       " WindowsPath('Y:/Photo/文件夹/人物_re/轻兰映画/VOL/轻兰映画 VOL.019/网盘资源分享页.html')]"
      ]
     },
     "execution_count": 6,
     "metadata": {},
     "output_type": "execute_result"
    }
   ],
   "source": [
    "from tools.FileOperations import delete_identical_files\n",
    "\n",
    "delete_list = delete_identical_files(new_dict)"
   ]
  },
  {
   "cell_type": "code",
   "execution_count": 2,
   "metadata": {},
   "outputs": [
    {
     "name": "stdout",
     "output_type": "stream",
     "text": [
      "Time for method v1: 0.1008 seconds\n",
      "Time for method v2: 0.0472 seconds\n"
     ]
    }
   ],
   "source": [
    "import timeit\n",
    "from tools.FileOperations import detect_identical_files_v1, detect_identical_files_v2\n",
    "\n",
    "\n",
    "directory_path = r'Q:\\Project\\test'\n",
    "\n",
    "# Measure time for the first method\n",
    "time_v1 = timeit.timeit(lambda: detect_identical_files_v1(directory_path), number=10)\n",
    "print(f\"Time for method v1: {time_v1:.4f} seconds\")\n",
    "\n",
    "# Measure time for the second method\n",
    "time_v2 = timeit.timeit(lambda: detect_identical_files_v2(directory_path), number=10)\n",
    "print(f\"Time for method v2: {time_v2:.4f} seconds\")"
   ]
  },
  {
   "cell_type": "code",
   "execution_count": 1,
   "metadata": {},
   "outputs": [
    {
     "name": "stdout",
     "output_type": "stream",
     "text": [
      "Moviepy - Building video Y:\\Photo\\文件夹\\GIF\\test\\006wisGzgw1f65zzrnyywg30a0064e81.mp4.\n",
      "Moviepy - Writing video Y:\\Photo\\文件夹\\GIF\\test\\006wisGzgw1f65zzrnyywg30a0064e81.mp4\n",
      "\n"
     ]
    },
    {
     "name": "stderr",
     "output_type": "stream",
     "text": [
      "                                                   "
     ]
    },
    {
     "name": "stdout",
     "output_type": "stream",
     "text": [
      "Moviepy - Done !\n",
      "Moviepy - video ready Y:\\Photo\\文件夹\\GIF\\test\\006wisGzgw1f65zzrnyywg30a0064e81.mp4\n"
     ]
    },
    {
     "name": "stderr",
     "output_type": "stream",
     "text": [
      "\r"
     ]
    }
   ],
   "source": [
    "from moviepy.editor import VideoFileClip\n",
    "\n",
    "def gif_to_video(gif_path, output_path):\n",
    "    # 读取GIF文件\n",
    "    clip = VideoFileClip(gif_path)\n",
    "    \n",
    "    # 将GIF文件转换为MP4视频文件\n",
    "    clip.write_videofile(output_path, codec='libx264')\n",
    "\n",
    "gif_to_video(r\"Y:\\Photo\\文件夹\\GIF\\test\\006wisGzgw1f65zzrnyywg30a0064e81.gif\", r\"Y:\\Photo\\文件夹\\GIF\\test\\006wisGzgw1f65zzrnyywg30a0064e81.mp4\")"
   ]
  },
  {
   "cell_type": "code",
   "execution_count": null,
   "metadata": {},
   "outputs": [],
   "source": []
  }
 ],
 "metadata": {
  "kernelspec": {
   "display_name": "toolenv",
   "language": "python",
   "name": "python3"
  },
  "language_info": {
   "codemirror_mode": {
    "name": "ipython",
    "version": 3
   },
   "file_extension": ".py",
   "mimetype": "text/x-python",
   "name": "python",
   "nbconvert_exporter": "python",
   "pygments_lexer": "ipython3",
   "version": "3.10.14"
  }
 },
 "nbformat": 4,
 "nbformat_minor": 2
}
